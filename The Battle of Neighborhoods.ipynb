{
    "cells": [
        {
            "cell_type": "markdown",
            "metadata": {
                "collapsed": true
            },
            "source": "# The Battle of Neighborhoods! "
        },
        {
            "cell_type": "markdown",
            "metadata": {},
            "source": ""
        },
        {
            "cell_type": "markdown",
            "metadata": {},
            "source": "### Part 1 - A description of the problem and a discussion of the background.\n#### Introduction/Business Problem"
        },
        {
            "cell_type": "markdown",
            "metadata": {},
            "source": "#### This project will aim to provide insights for restauranteers about which neighborhoods are prime for new business. A restauranteer looking to open a restaurant in Toronto would like to know which Neighborhood/Town is best suited. The questions he would like answered are:\n\n- What location is the most popular? \n- Which types of restaurants do people prefer? \n- Which restaurans have the most reviews? "
        },
        {
            "cell_type": "markdown",
            "metadata": {},
            "source": "### Part 2 - A description of the data\n#### Data "
        },
        {
            "cell_type": "markdown",
            "metadata": {},
            "source": "#### The data that will be used is Foursquare data for Toronto. It will focus on venues of restaurant type. The popularity will be an indicator for how good an area is for a restaurant. \n[Foursqaure](https://foursquare.com/developers/apps)"
        },
        {
            "cell_type": "code",
            "execution_count": null,
            "metadata": {},
            "outputs": [],
            "source": ""
        },
        {
            "cell_type": "code",
            "execution_count": null,
            "metadata": {},
            "outputs": [],
            "source": ""
        }
    ],
    "metadata": {
        "kernelspec": {
            "display_name": "Python 3.6",
            "language": "python",
            "name": "python3"
        },
        "language_info": {
            "codemirror_mode": {
                "name": "ipython",
                "version": 3
            },
            "file_extension": ".py",
            "mimetype": "text/x-python",
            "name": "python",
            "nbconvert_exporter": "python",
            "pygments_lexer": "ipython3",
            "version": "3.6.9"
        }
    },
    "nbformat": 4,
    "nbformat_minor": 1
}